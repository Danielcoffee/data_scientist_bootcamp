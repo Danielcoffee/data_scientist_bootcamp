{
 "cells": [
  {
   "cell_type": "markdown",
   "metadata": {},
   "source": [
    "# Chuong 1: To hop, anh xa, logic"
   ]
  },
  {
   "cell_type": "markdown",
   "metadata": {},
   "source": [
    "## Menh de\n",
    "1. Dinh nghia\n",
    "- Ky hieu: A, B, C\n",
    "2. Phu dinh\n",
    "- $\\bar{A} = A$\n",
    "3. Phep hoi: A va B\n",
    "- $A \\land B$\n",
    "4. Phep tuyen: A hoac B\n",
    "- $A \\vee B$\n",
    "- Xem bang chan ly\n",
    "5. Phep keo theo:\n",
    "- Menh de A keo theo menh de B: Neu A thi B\n",
    "- Ký hiệu: $A \\to B$\n",
    "- Bảng chân lý: nhận giá trị sai khi A đúng, B sai. còn lại đúng hết: \"Hổ báo quá\"\n",
    "\n",
    "6. Phép cần và đủ\n",
    "- Mệnh đề A cần và đủ mệnh đề B: A nếu và chỉ nếu B hoặc A khi và chỉ khi B\n",
    "- Ký hiệu: $A \\leftrightarrow B$"
   ]
  },
  {
   "cell_type": "markdown",
   "metadata": {},
   "source": []
  }
 ],
 "metadata": {
  "language_info": {
   "name": "python"
  }
 },
 "nbformat": 4,
 "nbformat_minor": 2
}
