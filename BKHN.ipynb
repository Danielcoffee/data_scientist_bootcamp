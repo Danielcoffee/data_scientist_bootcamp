{
 "cells": [
  {
   "cell_type": "markdown",
   "metadata": {},
   "source": [
    "# Chuong 1: To hop, anh xa, logic"
   ]
  },
  {
   "cell_type": "markdown",
   "metadata": {},
   "source": [
    "## Menh de\n",
    "1. Dinh nghia\n",
    "- Ky hieu: A, B, C\n"
   ]
  },
  {
   "cell_type": "markdown",
   "metadata": {},
   "source": [
    "\n",
    "## Các phép toán\n"
   ]
  },
  {
   "cell_type": "markdown",
   "metadata": {},
   "source": [
    "\n",
    "2. Phu dinh\n",
    "- $\\bar{A} = A$\n",
    "3. Phep hoi: A va B\n",
    "- $A \\land B$\n",
    "4. Phep tuyen: A hoac B\n",
    "- $A \\vee B$\n",
    "- Xem bang chan ly\n",
    "5. Phep keo theo:\n",
    "- Menh de A keo theo menh de B: Neu A thi B\n",
    "- Ký hiệu: $A \\to B$\n",
    "- Bảng chân lý: nhận giá trị sai khi A đúng, B sai. còn lại đúng hết: \"Hổ báo quá\"\n",
    "\n",
    "6. Phép cần và đủ\n",
    "- Mệnh đề A cần và đủ mệnh đề B: A nếu và chỉ nếu B hoặc A khi và chỉ khi B\n",
    "- Ký hiệu: $A \\leftrightarrow B$\n",
    "- Ví dụ: A = '1 < 3'; B = ' 1+ m < 3 + m, với $\\forall$ m $\\in$ R\n",
    "- Đúng khi: A và B cùng đúng hoặc cùng sai"
   ]
  },
  {
   "cell_type": "markdown",
   "metadata": {},
   "source": [
    "## Các phương pháp biến đổi\n"
   ]
  },
  {
   "cell_type": "markdown",
   "metadata": {},
   "source": [
    "### Quy tắc tương đương"
   ]
  },
  {
   "cell_type": "markdown",
   "metadata": {},
   "source": [
    "1. Hằng đúng: Mệnh đề A luôn đúng\n",
    "- Ký hiệu là T: (True)\n",
    "2. Mâu thuẫn\n",
    "- ký hiệu: F (False)\n",
    "3. quy tắc tương đương\n",
    "- A và B gọi là tương đương nếu $A \\leftrightarrow B$ là 1 hằng đúng\n",
    "- Quy tắc bao gồm nhiều mệnh đề hơn phép toán cần và đủ\n",
    "- Note: $A \\Leftrightarrow B$\n",
    "- Example: \n",
    "> + $A \\wedge T \\Leftrightarrow A \\Leftrightarrow A \\vee F$\n",
    "> + $A \\wedge F \\Leftrightarrow F$; $A \\vee T \\Leftrightarrow T$\n",
    "> + $A \\wedge A \\Leftrightarrow A \\Leftrightarrow A \\vee A$\n",
    "> + Sử dụng $\\Leftrightarrow$ bởi vì 2 vế không phải là mệnh đề riêng lẻ"
   ]
  },
  {
   "cell_type": "markdown",
   "metadata": {},
   "source": [
    "### Quy tắc giao hoán"
   ]
  },
  {
   "cell_type": "markdown",
   "metadata": {},
   "source": [
    "- $ A \\wedge B \\Leftrightarrow B \\wedge A$\n",
    "- $ A \\vee B \\Leftrightarrow B \\vee A$"
   ]
  },
  {
   "cell_type": "markdown",
   "metadata": {},
   "source": [
    "### Quy tac ket hop\n",
    "- $A \\vee (B \\vee C) \\Leftrightarrow (A \\vee B) \\vee C$ : cung phep toan nen co the hoan vi cho nhau\n",
    "- $A \\wedge (B \\wedge C) \\Leftrightarrow (A \\wedge B) \\wedge C$ : cung phep toan nen co the hoan vi cho nhau"
   ]
  },
  {
   "cell_type": "markdown",
   "metadata": {},
   "source": [
    "### Quy tac phan phoi\n",
    "- $ A \\vee (B \\wedge C) \\Leftrightarrow (A \\vee B) \\wedge (A \\vee C) $\n",
    "- $ A \\wedge (B \\vee C) \\Leftrightarrow (A \\wedge B) \\vee (A \\wedge C) $"
   ]
  },
  {
   "cell_type": "markdown",
   "metadata": {},
   "source": [
    "### Quy tac De Morgan\n",
    "$\\bar{A\\wedge B} \\Leftrightarrow \\bar{A} \\vee \\bar{B}$"
   ]
  },
  {
   "cell_type": "markdown",
   "metadata": {},
   "source": []
  },
  {
   "cell_type": "markdown",
   "metadata": {},
   "source": []
  },
  {
   "cell_type": "markdown",
   "metadata": {},
   "source": []
  }
 ],
 "metadata": {
  "kernelspec": {
   "display_name": "Python 3",
   "language": "python",
   "name": "python3"
  },
  "language_info": {
   "codemirror_mode": {
    "name": "ipython",
    "version": 3
   },
   "file_extension": ".py",
   "mimetype": "text/x-python",
   "name": "python",
   "nbconvert_exporter": "python",
   "pygments_lexer": "ipython3",
   "version": "3.12.2"
  }
 },
 "nbformat": 4,
 "nbformat_minor": 2
}
